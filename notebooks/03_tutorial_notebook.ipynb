{
 "cells": [
  {
   "cell_type": "code",
   "execution_count": null,
   "metadata": {},
   "outputs": [],
   "source": [
    "This tutorial demonstrates basic usage of the PyMGRIT package. Our goal is solving Dahlquist’s test problem,\n",
    "\n",
    "$$\n",
    "u' = \\lambda u \\;\\;\\text{ in } (0, 5] \\text{ with }\\; u(0) = 1\n",
    "$$\n",
    "\n",
    "discretized by Backward Euler. To accomplish this, this tutorial will go through the following tasks:\n",
    "\n",
    "1. Writing the vector class holding all time-dependent information\n",
    "2. Writing the application class holding any time-independent data\n",
    "3. Solving the problem\n",
    "4. Looking at results"
   ]
  },
  {
   "cell_type": "markdown",
   "metadata": {},
   "source": [
    "Then, we define the class *VectorDahlquist* containing a scalar member variable *value*:"
   ]
  },
  {
   "cell_type": "code",
   "execution_count": null,
   "metadata": {},
   "outputs": [],
   "source": [
    "class VectorDahlquist(Vector):\n",
    "    \"\"\"\n",
    "    Vector class for Dahlquist's test equation\n",
    "    \"\"\"\n",
    "\n",
    "    def __init__(self, value):\n",
    "        super().__init__()\n",
    "        self.value = value"
   ]
  },
  {
   "cell_type": "markdown",
   "metadata": {},
   "source": [
    "Furthermore, we must define the following seven member functions: *set\\_values*, *get\\_values*, *clone*, *clone_zero*, *clone_rand*, *\\_\\_add\\_\\_*, *\\_\\_sub\\_\\_*, *\\_\\_mul\\_\\_*, *norm*, *pack* and *unpack*.\n",
    "\n",
    "The function *set\\_values* receives data values and overwrites the values of the vector data and *get\\_values* returns the vector data. For our class *VectorDahlquist*, the vector data is the scalar member variable value:"
   ]
  },
  {
   "cell_type": "code",
   "execution_count": null,
   "metadata": {},
   "outputs": [],
   "source": [
    "def set_values(self, value):\n",
    "    self.value = value\n",
    "\n",
    "def get_values(self):\n",
    "    return self.value"
   ]
  },
  {
   "cell_type": "markdown",
   "metadata": {},
   "source": [
    "The function *clone* clones the object. The function *clone_zero* returns a vector object initialized with zeros; *clone_rand* similarly returns a vector object initialized with random data. For our class *VectorDahlquist*, these member functions are defined as follows:"
   ]
  },
  {
   "cell_type": "code",
   "execution_count": null,
   "metadata": {},
   "outputs": [],
   "source": [
    "def clone(self):\n",
    "    return VectorDahlquist(self.value)\n",
    "\n",
    "def clone_zero(self):\n",
    "    return VectorDahlquist(0)\n",
    "\n",
    "def clone_rand(self):\n",
    "    return VectorDahlquist(np.random.rand(1)[0])"
   ]
  },
  {
   "cell_type": "markdown",
   "metadata": {},
   "source": [
    "The functions *\\_\\_add\\_\\_*, *\\_\\_sub\\_\\_*, *\\_\\_mul\\_\\_*, and *norm* define the addition and subtraction of two vector objects and the norm of a vector object, respectively. For our class *VectorDahlquist*, adding or subtracting two vector objects means adding or subtracting the values of the member variable *value* by using the functions *get_values* and *set_values*. The multiplication defines the multiplication of a vector objects with a float. We define the norm of a vector object as the norm (from *numpy*) of the member variable *value*:"
   ]
  },
  {
   "cell_type": "code",
   "execution_count": null,
   "metadata": {},
   "outputs": [],
   "source": [
    "def __add__(self, other):\n",
    "    tmp = VectorDahlquist(0)\n",
    "    tmp.set_values(self.get_values() + other.get_values())\n",
    "    return tmp\n",
    "\n",
    "def __sub__(self, other):\n",
    "    tmp = VectorDahlquist(0)\n",
    "    tmp.set_values(self.get_values() - other.get_values())\n",
    "    return tmp\n",
    "\n",
    "def __mul__(self, other):\n",
    "    tmp = VectorDahlquist(0)\n",
    "    tmp.set_values(self.get_values() * other)\n",
    "    return tmp\n",
    "\n",
    "def norm(self):\n",
    "    return np.linalg.norm(self.value)"
   ]
  },
  {
   "cell_type": "markdown",
   "metadata": {},
   "source": [
    "The functions *pack* and *unpack* define the data to be communicated and how data is unpacked after receiving it. For our class *VectorDahlquist*, packing means setting the data to be communicated to the member variable *value* and unpacking means setting the member variable *value* to the received scalar value:"
   ]
  },
  {
   "cell_type": "code",
   "execution_count": null,
   "metadata": {},
   "outputs": [],
   "source": [
    "def pack(self):\n",
    "    return self.value\n",
    "\n",
    "def unpack(self, value):\n",
    "    self.value = value"
   ]
  },
  {
   "cell_type": "markdown",
   "metadata": {},
   "source": [
    "## Summary:\n",
    "\n",
    "The vector class must inherit from PyMGRIT’s core *Vector* class.\n",
    "\n",
    "Member variables hold all data of a single time point.\n",
    "\n",
    "The following member functions must be defined:\n",
    "\n",
    "* *set_values* : Setting vector data\n",
    "* *get_values* : Getting vector data\n",
    "* *clone* : Initialization of vector data with equivalent values\n",
    "* *clone_zero* : Initialization of vector data with zeros\n",
    "* *clone_rand* : Initialization of vector data with random values\n",
    "* *\\_\\_add\\_\\_* : Addition of two vector objects\n",
    "* *\\_\\_sub\\_\\_* : Subtraction of two vector objects\n",
    "* *\\_\\_mul\\_\\_* : Multiplication of a vector object with a float\n",
    "* *norm* : Norm of a vector object (for measuring convergence)\n",
    "* *pack* : Specifying communication data\n",
    "* *unpack* : Unpacking communication data"
   ]
  },
  {
   "cell_type": "code",
   "execution_count": null,
   "metadata": {},
   "outputs": [],
   "source": [
    "import numpy as np\n",
    "from pymgrit.core.vector import Vector\n",
    "\n",
    "class VectorDahlquist(Vector):\n",
    "    \"\"\"\n",
    "    Vector class for Dahlquist's test equation\n",
    "    \"\"\"\n",
    "\n",
    "    def __init__(self, value):\n",
    "        super().__init__()\n",
    "        self.value = value\n",
    "\n",
    "    def set_values(self, value):\n",
    "        self.value = value\n",
    "\n",
    "    def get_values(self):\n",
    "        return self.value\n",
    "\n",
    "    def clone(self):\n",
    "        return VectorDahlquist(self.value)\n",
    "\n",
    "    def clone_zero(self):\n",
    "        return VectorDahlquist(0)\n",
    "\n",
    "    def clone_rand(self):\n",
    "        return VectorDahlquist(np.random.rand(1)[0])\n",
    "\n",
    "    def __add__(self, other):\n",
    "        tmp = VectorDahlquist(0)\n",
    "        tmp.set_values(self.get_values() + other.get_values())\n",
    "        return tmp\n",
    "\n",
    "    def __sub__(self, other):\n",
    "        tmp = VectorDahlquist(0)\n",
    "        tmp.set_values(self.get_values() - other.get_values())\n",
    "        return tmp\n",
    "\n",
    "    def __mul__(self, other):\n",
    "        tmp = VectorDahlquist(0)\n",
    "        tmp.set_values(self.get_values() * other)\n",
    "        return tmp\n",
    "\n",
    "    def norm(self):\n",
    "        return np.linalg.norm(self.value)\n",
    "\n",
    "    def pack(self):\n",
    "        return self.value\n",
    "\n",
    "    def unpack(self, value):\n",
    "        self.value = value"
   ]
  },
  {
   "cell_type": "markdown",
   "metadata": {},
   "source": [
    "# Application class\n",
    "\n",
    "In the next step we write the application class that contains information about the problem we want to solve. Every application class must inherit from PyMGRIT’s core *Application* class.\n",
    "\n",
    "For our test problem, we import PyMGRIT’s core *Application* class:"
   ]
  },
  {
   "cell_type": "code",
   "execution_count": null,
   "metadata": {},
   "outputs": [],
   "source": [
    "from pymgrit.core.application import Application"
   ]
  },
  {
   "cell_type": "markdown",
   "metadata": {},
   "source": [
    "Then, we define the class *Dahlquist* containing the member variable *vector_template* that defines the data structure for any user-defined time point as well as the member variable *vector_t_start* that holds the initial condition at time *t_start*:"
   ]
  },
  {
   "cell_type": "code",
   "execution_count": null,
   "metadata": {},
   "outputs": [],
   "source": [
    "class Dahlquist(Application):\n",
    "    \"\"\"\n",
    "    Application class for Dahlquist's test equation,\n",
    "       u' = lambda u,  u(0) = 1,\n",
    "    with lambda = -1\n",
    "    \"\"\"\n",
    "\n",
    "    def __init__(self, *args, **kwargs):\n",
    "        super().__init__(*args, **kwargs)\n",
    "\n",
    "        # Set the data structure for any user-defined time point\n",
    "        self.vector_template = VectorDahlquist(0)\n",
    "\n",
    "        # Set the initial condition\n",
    "        self.vector_t_start = VectorDahlquist(1)"
   ]
  },
  {
   "cell_type": "markdown",
   "metadata": {},
   "source": [
    "Note: The time interval of the problem is defined in the superclass *Application*. This PyMGRIT core class contains the following member variables:\n",
    "\n",
    "* t\\_start : start time (left bound of time interval)\n",
    "* t\\_end : end time (right bound of time interval)\n",
    "* nt : number of time points\n",
    "\n",
    "Furthermore, we must define the time integration routine as the member function step that evolves a vector *u_start* from time *t_start* to time *t_stop*. For our test problem, we take a backward Euler step:"
   ]
  },
  {
   "cell_type": "code",
   "execution_count": null,
   "metadata": {},
   "outputs": [],
   "source": [
    "def step(self, u_start: VectorDahlquist, t_start: float, t_stop: float) -> VectorDahlquist:\n",
    "    z = (t_stop - t_start) * -1  # Note: lambda = -1\n",
    "    tmp = 1 / (1 - z) * u_start.get_values()\n",
    "    return VectorDahlquist(tmp)"
   ]
  },
  {
   "cell_type": "markdown",
   "metadata": {},
   "source": [
    "## Summary\n",
    "\n",
    "The application class must inherit from PyMGRIT’s core *Application* class.\n",
    "\n",
    "The application class contains information about the problem we want to solve.\n",
    "\n",
    "The application class must contain the following member variables and member functions:\n",
    "\n",
    "* Variable *vector_template* : Data structure for any user-defined time point\n",
    "* Variable *vector_t_start* : Holds the initial condition (same data structur as *vector_template*)\n",
    "* Function *step* : Time integration routine"
   ]
  },
  {
   "cell_type": "code",
   "execution_count": null,
   "metadata": {},
   "outputs": [],
   "source": [
    "# Import superclass Application\n",
    "from pymgrit.core.application import Application\n",
    "\n",
    "class Dahlquist(Application):\n",
    "    \"\"\"\n",
    "    Application class for Dahlquist's test equation,\n",
    "       u' = lambda u,  u(0) = 1,\n",
    "    with lambda = -1\n",
    "    \"\"\"\n",
    "\n",
    "    def __init__(self, *args, **kwargs):\n",
    "        super().__init__(*args, **kwargs)\n",
    "\n",
    "        # Set the data structure for any user-defined time point\n",
    "        self.vector_template = VectorDahlquist(0)\n",
    "\n",
    "        # Set the initial condition\n",
    "        self.vector_t_start = VectorDahlquist(1)\n",
    "\n",
    "    # Time integration routine\n",
    "    def step(self, u_start: VectorDahlquist, t_start: float, t_stop: float) -> VectorDahlquist:\n",
    "        z = (t_stop - t_start) * -1  # Note: lambda = -1\n",
    "        tmp = 1 / (1 - z) * u_start.get_values()\n",
    "        return VectorDahlquist(tmp)"
   ]
  },
  {
   "cell_type": "markdown",
   "metadata": {},
   "source": [
    "# Solving the problem\n",
    "\n",
    "The third step is to set up an MGRIT solver for the test problem.\n",
    "\n",
    "First, import PyMGRIT:"
   ]
  },
  {
   "cell_type": "code",
   "execution_count": null,
   "metadata": {},
   "outputs": [],
   "source": [
    "from pymgrit import *"
   ]
  },
  {
   "cell_type": "markdown",
   "metadata": {},
   "source": [
    "Create Dahlquist's test problem for the time interval [0, 5] with 101 equidistant time points (100 time points + 1 time point for the initial time t = 0)  as an object of our application class *Dahlquist*:"
   ]
  },
  {
   "cell_type": "code",
   "execution_count": null,
   "metadata": {},
   "outputs": [],
   "source": [
    "dahlquist = Dahlquist(t_start=0, t_stop=5, nt=101)"
   ]
  },
  {
   "cell_type": "markdown",
   "metadata": {},
   "source": [
    "Construct a multigrid hierarchy for the test problem dahlquist using PyMGRIT’s core function *simple_setup_problem*:"
   ]
  },
  {
   "cell_type": "code",
   "execution_count": null,
   "metadata": {},
   "outputs": [],
   "source": [
    "dahlquist_multilevel_structure = simple_setup_problem(problem=dahlquist, level=2, coarsening=2)"
   ]
  },
  {
   "cell_type": "markdown",
   "metadata": {},
   "source": [
    "This tells PyMGRIT to set up a hierarchy with two temporal grid levels using the test problem *dahlquist* and a temporal coarsening factor of two, i.e., on the fine grid, the number of time points is 101, and on the coarse grid, 51 (=100/2+1) time points are used.\n",
    "\n",
    "Set up the MGRIT solver for the test problem using *dahlquist_multilevel_structure* and set the solver tolerance to 1e-10:"
   ]
  },
  {
   "cell_type": "code",
   "execution_count": null,
   "metadata": {},
   "outputs": [],
   "source": [
    "mgrit = Mgrit(problem=dahlquist_multilevel_structure, tol=1e-10)"
   ]
  },
  {
   "cell_type": "markdown",
   "metadata": {},
   "source": [
    "Finally, solve the test problem using the *solve()* routine of the solver *mgrit*:"
   ]
  },
  {
   "cell_type": "code",
   "execution_count": null,
   "metadata": {},
   "outputs": [],
   "source": [
    "info = mgrit.solve()"
   ]
  },
  {
   "cell_type": "markdown",
   "metadata": {},
   "source": [
    "and returns the residual history, setup time, and solve time in dictionary *info* with the following key values:\n",
    "\n",
    "* *conv* : residual history (2-norm of the residual at each iteration)\n",
    "* *time_setup* : setup time [in seconds]\n",
    "* *time_solve* : solve time [in seconds]"
   ]
  },
  {
   "cell_type": "markdown",
   "metadata": {},
   "source": [
    "# Looking at results\n",
    "\n",
    "The last step is to look at the results of our PyMGRIT run.\n",
    "\n",
    "In the default setting,\n",
    "\n",
    "* PyMGRIT’s core routine Mgrit() prints out the setup time.\n",
    "* The solve() routine\n",
    "    * prints out the residual history, along with convergence factors and runtimes, and\n",
    "    * returns the residual history, setup time, and solve time.\n",
    "\n",
    "For our example, we can plot the residuals as follows: First, we import *numpy* and *pyplot*:"
   ]
  },
  {
   "cell_type": "code",
   "execution_count": null,
   "metadata": {},
   "outputs": [],
   "source": [
    "import numpy as np\n",
    "import matplotlib.pyplot as plt"
   ]
  },
  {
   "cell_type": "markdown",
   "metadata": {},
   "source": [
    "Then, we get the residuals from the dictionary *info*:"
   ]
  },
  {
   "cell_type": "code",
   "execution_count": null,
   "metadata": {},
   "outputs": [],
   "source": [
    "res = info['conv']"
   ]
  },
  {
   "cell_type": "markdown",
   "metadata": {},
   "source": [
    "and plot the residuals:"
   ]
  },
  {
   "cell_type": "code",
   "execution_count": null,
   "metadata": {},
   "outputs": [],
   "source": [
    "iters = np.arange(1, res.size+1)\n",
    "plt.semilogy(iters, res, 'o-')\n",
    "plt.xticks(iters)\n",
    "plt.xlabel('iter #')\n",
    "plt.ylabel('residual norm')\n",
    "plt.show()"
   ]
  },
  {
   "cell_type": "code",
   "execution_count": null,
   "metadata": {},
   "outputs": [],
   "source": []
  }
 ],
 "metadata": {
  "kernelspec": {
   "display_name": "Python 3",
   "language": "python",
   "name": "python3"
  },
  "language_info": {
   "codemirror_mode": {
    "name": "ipython",
    "version": 3
   },
   "file_extension": ".py",
   "mimetype": "text/x-python",
   "name": "python",
   "nbconvert_exporter": "python",
   "pygments_lexer": "ipython3",
   "version": "3.6.9"
  }
 },
 "nbformat": 4,
 "nbformat_minor": 2
}