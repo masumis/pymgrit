{
 "cells": [
  {
   "cell_type": "markdown",
   "metadata": {},
   "source": [
    "# Output function\n",
    "\n",
    "[example_output_fcn_serial.py](https://github.com/pymgrit/pymgrit/blob/master/examples/example_output_fcn_serial.py) and [example_output_fcn.py](https://github.com/pymgrit/pymgrit/blob/master/examples/example_output_fcn.py)\n",
    "\n",
    "In this example, we show how to save and plot the MGRIT approximation of the solution of Dahlquist’s test problem. An output function is defined that saves the solution (here, a single solution value at each time point is written to an output file via the *numpy* function *save()*). This output function is passed to the MGRIT solver. Depending on the solver setting, the output function\n",
    "\n",
    "* is never called,\n",
    "* is called at the end of the simulation, or\n",
    "* is called after each iteration."
   ]
  },
  {
   "cell_type": "code",
   "execution_count": null,
   "metadata": {},
   "outputs": [],
   "source": [
    "import pathlib\n",
    "import numpy as np\n",
    "import matplotlib.pyplot as plt\n",
    "\n",
    "from pymgrit.dahlquist.dahlquist import Dahlquist\n",
    "from pymgrit.core.simple_setup_problem import simple_setup_problem\n",
    "from pymgrit.core.mgrit import Mgrit\n",
    "\n",
    "\n",
    "# Define output function that writes the solution to a file\n",
    "def output_fcn(self):\n",
    "    # Set path to solution\n",
    "    path = 'results/' + 'dahlquist'\n",
    "    # Create path if not existing\n",
    "    pathlib.Path(path).mkdir(parents=True, exist_ok=True)\n",
    "    # Save solution to file; here, we just have a single solution value at each time point.\n",
    "    # Useful member variables of MGRIT solver:\n",
    "    #   - self.t[0]           : local fine-grid (level 0) time interval\n",
    "    #   - self.index_local[0] : indices of local fine-grid (level 0) time interval\n",
    "    #   - self.u[0]           : fine-grid (level 0) solution values\n",
    "    np.save(path + '/dahlquist',\n",
    "            [self.u[0][i].get_values() for i in self.index_local[0]])   # Solution values at local time points\n",
    "\n",
    "# Create Dahlquist's test problem with 101 time steps in the interval [0, 5]\n",
    "dahlquist = Dahlquist(t_start=0, t_stop=5, nt=101)\n",
    "\n",
    "# Construct a two-level multigrid hierarchy for the test problem using a coarsening factor of 2\n",
    "dahlquist_multilevel_structure = simple_setup_problem(problem=dahlquist, level=2, coarsening=2)\n",
    "\n",
    "# Set up the MGRIT solver for the test problem and set the output function\n",
    "mgrit = Mgrit(problem=dahlquist_multilevel_structure, output_fcn=output_fcn)\n",
    "\n",
    "# Solve the test problem\n",
    "info = mgrit.solve()\n",
    "\n",
    "# Plot the solution (Note: modifications necessary if more than one process is used for the simulation!)\n",
    "t = np.linspace(dahlquist.t_start, dahlquist.t_end, dahlquist.nt)\n",
    "sol = np.load('results/dahlquist/dahlquist.npy')\n",
    "plt.plot(t, sol)\n",
    "plt.xlabel('t')\n",
    "plt.ylabel('u(t)')\n",
    "plt.show()"
   ]
  },
  {
   "cell_type": "code",
   "execution_count": null,
   "metadata": {},
   "outputs": [],
   "source": []
  }
 ],
 "metadata": {
  "kernelspec": {
   "display_name": "Python 3",
   "language": "python",
   "name": "python3"
  },
  "language_info": {
   "codemirror_mode": {
    "name": "ipython",
    "version": 3
   },
   "file_extension": ".py",
   "mimetype": "text/x-python",
   "name": "python",
   "nbconvert_exporter": "python",
   "pygments_lexer": "ipython3",
   "version": "3.6.9"
  }
 },
 "nbformat": 4,
 "nbformat_minor": 2
}