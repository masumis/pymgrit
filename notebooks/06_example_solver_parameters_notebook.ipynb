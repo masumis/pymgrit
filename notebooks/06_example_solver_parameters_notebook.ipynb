{
 "cells": [
  {
   "cell_type": "markdown",
   "metadata": {},
   "source": [
    "# Solver parameters\n",
    "\n",
    "[example_parameters.py](https://github.com/pymgrit/pymgrit/blob/master/examples/example_parameters.py)\n",
    "\n",
    "The MGRIT algorithm in PyMGRIT has a variety of parameters and features. This example describes the parameters of PyMGRIT’s core routine *Mgrit()*."
   ]
  },
  {
   "cell_type": "code",
   "execution_count": 1,
   "metadata": {},
   "outputs": [
    {
     "name": "stderr",
     "output_type": "stream",
     "text": [
      "\n",
      "Bad key savefig.frameon in file /home/jens/.local/lib/python3.6/site-packages/matplotlib/mpl-data/stylelib/_classic_test.mplstyle, line 421 ('savefig.frameon : True')\n",
      "You probably need to get an updated matplotlibrc file from\n",
      "https://github.com/matplotlib/matplotlib/blob/v3.3.2/matplotlibrc.template\n",
      "or from the matplotlib source distribution\n",
      "\n",
      "Bad key verbose.level in file /home/jens/.local/lib/python3.6/site-packages/matplotlib/mpl-data/stylelib/_classic_test.mplstyle, line 472 ('verbose.level  : silent      # one of silent, helpful, debug, debug-annoying')\n",
      "You probably need to get an updated matplotlibrc file from\n",
      "https://github.com/matplotlib/matplotlib/blob/v3.3.2/matplotlibrc.template\n",
      "or from the matplotlib source distribution\n",
      "\n",
      "Bad key verbose.fileo in file /home/jens/.local/lib/python3.6/site-packages/matplotlib/mpl-data/stylelib/_classic_test.mplstyle, line 473 ('verbose.fileo  : sys.stdout  # a log filename, sys.stdout or sys.stderr')\n",
      "You probably need to get an updated matplotlibrc file from\n",
      "https://github.com/matplotlib/matplotlib/blob/v3.3.2/matplotlibrc.template\n",
      "or from the matplotlib source distribution\n",
      "In /home/jens/.local/lib/python3.6/site-packages/matplotlib/mpl-data/stylelib/_classic_test.mplstyle: \n",
      "The text.latex.preview rcparam was deprecated in Matplotlib 3.3 and will be removed two minor releases later.\n",
      "In /home/jens/.local/lib/python3.6/site-packages/matplotlib/mpl-data/stylelib/_classic_test.mplstyle: \n",
      "The mathtext.fallback_to_cm rcparam was deprecated in Matplotlib 3.3 and will be removed two minor releases later.\n",
      "In /home/jens/.local/lib/python3.6/site-packages/matplotlib/mpl-data/stylelib/_classic_test.mplstyle: Support for setting the 'mathtext.fallback_to_cm' rcParam is deprecated since 3.3 and will be removed two minor releases later; use 'mathtext.fallback : 'cm' instead.\n",
      "In /home/jens/.local/lib/python3.6/site-packages/matplotlib/mpl-data/stylelib/_classic_test.mplstyle: \n",
      "The validate_bool_maybe_none function was deprecated in Matplotlib 3.3 and will be removed two minor releases later.\n",
      "In /home/jens/.local/lib/python3.6/site-packages/matplotlib/mpl-data/stylelib/_classic_test.mplstyle: \n",
      "The savefig.jpeg_quality rcparam was deprecated in Matplotlib 3.3 and will be removed two minor releases later.\n",
      "In /home/jens/.local/lib/python3.6/site-packages/matplotlib/mpl-data/stylelib/_classic_test.mplstyle: \n",
      "The keymap.all_axes rcparam was deprecated in Matplotlib 3.3 and will be removed two minor releases later.\n",
      "In /home/jens/.local/lib/python3.6/site-packages/matplotlib/mpl-data/stylelib/_classic_test.mplstyle: \n",
      "The animation.avconv_path rcparam was deprecated in Matplotlib 3.3 and will be removed two minor releases later.\n",
      "In /home/jens/.local/lib/python3.6/site-packages/matplotlib/mpl-data/stylelib/_classic_test.mplstyle: \n",
      "The animation.avconv_args rcparam was deprecated in Matplotlib 3.3 and will be removed two minor releases later.\n"
     ]
    },
    {
     "name": "stdout",
     "output_type": "stream",
     "text": [
      "INFO - 11-11-20 16:14:11 - Start setup\n",
      "INFO - 11-11-20 16:14:11 - Setup took 0.0036020278930664062 s\n",
      "INFO - 11-11-20 16:14:11 - Start solve\n",
      "INFO - 11-11-20 16:14:11 - iter 1  | conv: 7.186185937025429e-05   | conv factor: -                     | runtime: 0.0032951831817626953 s\n",
      "INFO - 11-11-20 16:14:11 - iter 2  | conv: 1.246106707585954e-06   | conv factor: 0.017340307062827735  | runtime: 0.003405332565307617 s \n",
      "INFO - 11-11-20 16:14:11 - iter 3  | conv: 2.1015566149418615e-08  | conv factor: 0.016864981162112075  | runtime: 0.0055694580078125 s   \n",
      "INFO - 11-11-20 16:14:11 - iter 4  | conv: 3.1441273895579124e-10  | conv factor: 0.014960945459206166  | runtime: 0.003000020980834961 s \n",
      "INFO - 11-11-20 16:14:11 - iter 5  | conv: 3.975216519949153e-12   | conv factor: 0.012643306162312011  | runtime: 0.00278472900390625 s  \n",
      "INFO - 11-11-20 16:14:11 - Solve took 0.0361478328704834 s\n",
      "INFO - 11-11-20 16:14:11 - Run parameter overview\n",
      "  time interval             : [0.0, 5.0]\n",
      "  number of time points     : 101\n",
      "  max dt                    : 0.05000000000000071\n",
      "  number of levels          : 2\n",
      "  coarsening factors        : [2]\n",
      "  relaxation weight         : 1\n",
      "  cf_iter                   : 1\n",
      "  nested iteration          : True\n",
      "  cycle type                : V\n",
      "  stopping tolerance        : 1e-10\n",
      "  time communicator size    : 1\n",
      "  space communicator size   : 1\n"
     ]
    },
    {
     "data": {
      "text/plain": [
       "{'conv': array([7.18618594e-05, 1.24610671e-06, 2.10155661e-08, 3.14412739e-10,\n",
       "        3.97521652e-12]),\n",
       " 'time_setup': 0.0036020278930664062,\n",
       " 'time_solve': 0.0361478328704834}"
      ]
     },
     "execution_count": 1,
     "metadata": {},
     "output_type": "execute_result"
    }
   ],
   "source": [
    "from mpi4py import MPI\n",
    "\n",
    "from pymgrit.dahlquist.dahlquist import Dahlquist\n",
    "from pymgrit.core.simple_setup_problem import simple_setup_problem\n",
    "from pymgrit.core.mgrit import Mgrit\n",
    "\n",
    "# Create Dahlquist's test problem with 101 time steps in the interval [0, 5]\n",
    "dahlquist = Dahlquist(t_start=0, t_stop=5, nt=101)\n",
    "\n",
    "# Construct a two-level multigrid hierarchy for the test problem using a coarsening factor of 2\n",
    "dahlquist_multilevel_structure = simple_setup_problem(problem=dahlquist, level=2, coarsening=2)\n",
    "\n",
    "# Set up the MGRIT solver for the test problem\n",
    "mgrit = Mgrit(problem=dahlquist_multilevel_structure,       # Problem structure\n",
    "              transfer=None,                                # Spatial grid transfer. Automatically set if None.\n",
    "              max_iter=10,                                  # Maximum number of iterations (default: 100)\n",
    "              tol=1e-10,                                    # Stopping tolerance (default: 1e-7)\n",
    "              nested_iteration=True,                        # Use (True) or do not use (False) nested iterations\n",
    "                                                            # (default: True)\n",
    "              cf_iter=1,                                    # Number of CF relaxations (default: 1)\n",
    "              cycle_type='V',                               # multigrid cycling type (default: 'V'):\n",
    "                                                            # 'V' -> V-cycles\n",
    "                                                            # 'F' -> F-cycles\n",
    "              comm_time=MPI.COMM_WORLD,                     # Time communicator (default: MPI.COMM_WORLD)\n",
    "              comm_space=MPI.COMM_NULL,                     # Space communicator (default: MPI.COMM_NULL)\n",
    "              weight_c=1,                                      # C - relaxation weight (default: 1)\n",
    "              logging_lvl=20,                               # Logging level (default: 20):\n",
    "                                                            # 10: Debug -> Runtime of all components\n",
    "                                                            # 20: Info  -> Info per iteration + summary\n",
    "                                                            # 30: None  -> No information\n",
    "              output_fcn=None,                              # Function for saving solution values to file\n",
    "                                                            # (default: None)\n",
    "              output_lvl=1,                                 # Output level (default: 1):\n",
    "                                                            # 0 -> output_fcn is never called\n",
    "                                                            # 1 -> output_fcn is called at the end of the simulation\n",
    "                                                            # 2 -> output_fcn is called after each MGRIT iteration\n",
    "              t_norm=2,                                     # Temporal norm\n",
    "                                                            # 1 -> One-norm\n",
    "                                                            # 2 -> Two-norm\n",
    "                                                            # 3 -> Infinity-norm\n",
    "              random_init_guess=False                       # Use (True) or do not use (False) random initial guess\n",
    "                                                            # for all unknowns (default: False)\n",
    "              )\n",
    "\n",
    "# Solve the test problem\n",
    "mgrit.solve()"
   ]
  },
  {
   "cell_type": "code",
   "execution_count": null,
   "metadata": {},
   "outputs": [],
   "source": []
  }
 ],
 "metadata": {
  "kernelspec": {
   "display_name": "Python 3",
   "language": "python",
   "name": "python3"
  },
  "language_info": {
   "codemirror_mode": {
    "name": "ipython",
    "version": 3
   },
   "file_extension": ".py",
   "mimetype": "text/x-python",
   "name": "python",
   "nbconvert_exporter": "python",
   "pygments_lexer": "ipython3",
   "version": "3.6.9"
  }
 },
 "nbformat": 4,
 "nbformat_minor": 2
}
