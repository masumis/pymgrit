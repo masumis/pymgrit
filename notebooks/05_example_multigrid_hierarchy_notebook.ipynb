{
 "cells": [
  {
   "cell_type": "markdown",
   "metadata": {},
   "source": [
    "# Multigrid hierarchy\n",
    "\n",
    "[example_multilevel_structure.py](https://github.com/pymgrit/pymgrit/blob/master/examples/example_multilevel_structure.py)\n",
    "\n",
    "There are several ways to create a time-multigrid hierarchy for a problem:\n",
    "\n",
    "1. Using PyMGRIT’s core function simple_setup_problem()\n",
    "2. Defining nt evenly spaced numbers over a specified interval [t_start, t_stop] for each grid level\n",
    "3. Specifying time intervals for each grid level\n",
    "4. Mixing options 2 and 3\n",
    "\n",
    "Note: Option 1 is only implemented to support an easy start. We recommend to build the hierarchy manually by using one of the options 2-4.\n",
    "\n",
    "The following example shows the four different options for creating the same three-level time-grid hierarchy and builds MGRIT solvers using the resulting four multilevel objects:"
   ]
  },
  {
   "cell_type": "code",
   "execution_count": null,
   "metadata": {},
   "outputs": [],
   "source": [
    "import numpy as np\n",
    "from pymgrit.dahlquist.dahlquist import Dahlquist\n",
    "from pymgrit.core.simple_setup_problem import simple_setup_problem\n",
    "from pymgrit.core.mgrit import Mgrit\n",
    "\n",
    "# Option 1: Use PyMGRIT's core function simple_setup_problem()\n",
    "dahlquist_multilevel_structure_1 = simple_setup_problem(problem=Dahlquist(t_start=0, t_stop=5, nt=101), level=3,\n",
    "                                                        coarsening=2)\n",
    "Mgrit(problem=dahlquist_multilevel_structure_1, tol=1e-10).solve()\n",
    "\n",
    "# Option 2: Build each level using t_start, t_end, and nt\n",
    "dahlquist_lvl_0 = Dahlquist(t_start=0, t_stop=5, nt=101)\n",
    "dahlquist_lvl_1 = Dahlquist(t_start=0, t_stop=5, nt=51)\n",
    "dahlquist_lvl_2 = Dahlquist(t_start=0, t_stop=5, nt=26)\n",
    "dahlquist_multilevel_structure_2 = [dahlquist_lvl_0, dahlquist_lvl_1, dahlquist_lvl_2]\n",
    "Mgrit(problem=dahlquist_multilevel_structure_2, tol=1e-10).solve()\n",
    "\n",
    "# Option 3: Specify time intervals for each grid level\n",
    "t_interval = np.linspace(0, 5, 101)\n",
    "dahlquist_lvl_0 = Dahlquist(t_interval=t_interval)\n",
    "dahlquist_lvl_1 = Dahlquist(t_interval=t_interval[::2])  # Takes every second point from t_interval\n",
    "dahlquist_lvl_2 = Dahlquist(t_interval=t_interval[::4])  # Takes every fourth point from t_interval\n",
    "dahlquist_multilevel_structure_3 = [dahlquist_lvl_0, dahlquist_lvl_1, dahlquist_lvl_2]\n",
    "Mgrit(problem=dahlquist_multilevel_structure_3, tol=1e-10).solve()\n",
    "\n",
    "# Option 4: Mix options 2 and 3\n",
    "dahlquist_lvl_0 = Dahlquist(t_start=0, t_stop=5, nt=101)\n",
    "dahlquist_lvl_1 = Dahlquist(t_interval=dahlquist_lvl_0.t[::2])  # Using t from the upper level.\n",
    "dahlquist_lvl_2 = Dahlquist(t_start=0, t_stop=5, nt=26)\n",
    "dahlquist_multilevel_structure_4 = [dahlquist_lvl_0, dahlquist_lvl_1, dahlquist_lvl_2]\n",
    "Mgrit(problem=dahlquist_multilevel_structure_4, tol=1e-10).solve()"
   ]
  },
  {
   "cell_type": "code",
   "execution_count": null,
   "metadata": {},
   "outputs": [],
   "source": []
  }
 ],
 "metadata": {
  "kernelspec": {
   "display_name": "Python 3",
   "language": "python",
   "name": "python3"
  },
  "language_info": {
   "codemirror_mode": {
    "name": "ipython",
    "version": 3
   },
   "file_extension": ".py",
   "mimetype": "text/x-python",
   "name": "python",
   "nbconvert_exporter": "python",
   "pygments_lexer": "ipython3",
   "version": "3.6.9"
  }
 },
 "nbformat": 4,
 "nbformat_minor": 2
}