{
 "cells": [
  {
   "cell_type": "markdown",
   "metadata": {},
   "source": [
    "# Basic usage\n",
    "[example_dahlquist.py](https://github.com/pymgrit/pymgrit/blob/master/examples/example_dahlquist.py)\n",
    "\n",
    "This example demonstrates basic usage of the PyMGRIT package for solving a simple test problem with a two-level MGRIT solver, using PyMGRIT’s core routines *simple_setup_problem()*, *Mgrit()*, and *mgrit.solve()*. \n",
    "Note: This example is also considered in Quickstart.\n",
    "\n",
    "For a given test problem, we can construct a time-multigrid hierarchy by calling *simple_setup_problem()*. To solve the problem, we then only need to set up an MGRIT solver *mgrit* with this time-multigrid hierarchy and use the solver routine *mgrit.solve()* of the MGRIT solver."
   ]
  },
  {
   "cell_type": "code",
   "execution_count": null,
   "metadata": {},
   "outputs": [],
   "source": [
    "from pymgrit.dahlquist.dahlquist import Dahlquist\n",
    "from pymgrit.core.simple_setup_problem import simple_setup_problem\n",
    "from pymgrit.core.mgrit import Mgrit\n",
    "\n",
    "# Create Dahlquist's test problem with 101 time steps in the interval [0, 5]\n",
    "dahlquist = Dahlquist(t_start=0, t_stop=5, nt=101)\n",
    "\n",
    "# Construct a two-level multigrid hierarchy for the test problem using a coarsening factor of 2\n",
    "dahlquist_multilevel_structure = simple_setup_problem(problem=dahlquist, level=2, coarsening=2)\n",
    "\n",
    "# Set up the MGRIT solver for the test problem and set the solver tolerance to 1e-10\n",
    "mgrit = Mgrit(problem=dahlquist_multilevel_structure, tol=1e-10)\n",
    "\n",
    "# Solve the test problem\n",
    "info = mgrit.solve()"
   ]
  },
  {
   "cell_type": "code",
   "execution_count": null,
   "metadata": {},
   "outputs": [],
   "source": []
  }
 ],
 "metadata": {
  "kernelspec": {
   "display_name": "Python 3",
   "language": "python",
   "name": "python3"
  },
  "language_info": {
   "codemirror_mode": {
    "name": "ipython",
    "version": 3
   },
   "file_extension": ".py",
   "mimetype": "text/x-python",
   "name": "python",
   "nbconvert_exporter": "python",
   "pygments_lexer": "ipython3",
   "version": "3.6.9"
  }
 },
 "nbformat": 4,
 "nbformat_minor": 2
}